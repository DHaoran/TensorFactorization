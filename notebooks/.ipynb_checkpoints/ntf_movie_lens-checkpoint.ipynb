{
 "cells": [
  {
   "cell_type": "code",
   "execution_count": 21,
   "metadata": {
    "collapsed": true
   },
   "outputs": [],
   "source": [
    "import datetime\n",
    "import numpy as np\n",
    "import pandas as pd\n",
    "import seaborn as sns\n",
    "import matplotlib.pyplot as plt\n",
    "from sklearn.cross_validation import train_test_split\n",
    "from sklearn.metrics import mean_squared_error, mean_absolute_error\n",
    "from ntflib import betantf\n",
    "\n",
    "%matplotlib inline\n",
    "sns.set(style=\"white\")"
   ]
  },
  {
   "cell_type": "code",
   "execution_count": 83,
   "metadata": {
    "collapsed": false
   },
   "outputs": [],
   "source": [
    "def mapper(array):\n",
    "#     array = np.sort(array)\n",
    "    # int_map = np.arange(len(np.unique(array))).astype(int)\n",
    "    dict_map = {v:i for i, v in enumerate(np.unique(array))}\n",
    "    # dict_map = dict(zip((np.unique(array), int_map))\n",
    "    tmp = pd.Series(array)\n",
    "    res = tmp.map(lambda x: dict_map[x])\n",
    "    \n",
    "    inv_dict_map = {v: k for k, v in dict_map.items()}\n",
    "    return res.values, inv_dict_map\n",
    "\n",
    "def rmse(x, y):\n",
    "    return np.sqrt((x - y)**2.0).sum()"
   ]
  },
  {
   "cell_type": "code",
   "execution_count": 2,
   "metadata": {
    "collapsed": false
   },
   "outputs": [
    {
     "name": "stdout",
     "output_type": "stream",
     "text": [
      "--2015-06-25 10:25:08--  http://files.grouplens.org/datasets/movielens/ml-1m.zip\n",
      "Resolving files.grouplens.org... 128.101.34.146\n",
      "Connecting to files.grouplens.org|128.101.34.146|:80... connected.\n",
      "HTTP request sent, awaiting response... 200 OK\n",
      "Length: 5917392 (5.6M) [application/zip]\n",
      "Saving to: 'ml-1m.zip'\n",
      "\n",
      "ml-1m.zip           100%[=====================>]   5.64M   668KB/s   in 13s    \n",
      "\n",
      "2015-06-25 10:25:22 (437 KB/s) - 'ml-1m.zip' saved [5917392/5917392]\n",
      "\n"
     ]
    }
   ],
   "source": [
    "# !wget http://files.grouplens.org/datasets/movielens/ml-1m.zip"
   ]
  },
  {
   "cell_type": "code",
   "execution_count": 3,
   "metadata": {
    "collapsed": false
   },
   "outputs": [
    {
     "name": "stdout",
     "output_type": "stream",
     "text": [
      "Archive:  ml-1m.zip\n",
      "   creating: ml-1m/\n",
      "  inflating: ml-1m/movies.dat        \n",
      "  inflating: ml-1m/ratings.dat       \n",
      "  inflating: ml-1m/README            \n",
      "  inflating: ml-1m/users.dat         \n"
     ]
    }
   ],
   "source": [
    "# !unzip ml-1m.zip"
   ]
  },
  {
   "cell_type": "code",
   "execution_count": 84,
   "metadata": {
    "collapsed": false
   },
   "outputs": [],
   "source": [
    "ratings = pd.read_table('ml-1m/ratings.dat', sep='::', names=['UserID', 'MovieID', 'Rating', 'Timestamp'])\n",
    "ratings.Timestamp = ratings.Timestamp.map(lambda x: datetime.datetime.fromtimestamp(x).strftime('%Y-%m'))\n",
    "# movies = pd.read_table('ml-1m/movies.dat', sep='::', names=['MovieID', 'Title', 'Genres'])\n",
    "# users = pd.read_table('ml-1m/users.dat', sep='::', names=['UserID' ,'Gender', 'Age', 'Occupation::Zip-code'])"
   ]
  },
  {
   "cell_type": "code",
   "execution_count": 85,
   "metadata": {
    "collapsed": false
   },
   "outputs": [],
   "source": [
    "# Converting dates to integers\n",
    "ratings['UserID'], inv_uid_dict = mapper(ratings['UserID'])\n",
    "ratings['MovieID'], inv_mid_dict = mapper(ratings['MovieID'])\n",
    "ratings['Timestamp'], inv_ts_dict = mapper(ratings['Timestamp'])"
   ]
  },
  {
   "cell_type": "code",
   "execution_count": 86,
   "metadata": {
    "collapsed": false
   },
   "outputs": [
    {
     "data": {
      "text/html": [
       "<div style=\"max-height:1000px;max-width:1500px;overflow:auto;\">\n",
       "<table border=\"1\" class=\"dataframe\">\n",
       "  <thead>\n",
       "    <tr style=\"text-align: right;\">\n",
       "      <th></th>\n",
       "      <th>UserID</th>\n",
       "      <th>MovieID</th>\n",
       "      <th>Rating</th>\n",
       "      <th>Timestamp</th>\n",
       "    </tr>\n",
       "  </thead>\n",
       "  <tbody>\n",
       "    <tr>\n",
       "      <th>1000204</th>\n",
       "      <td>6039</td>\n",
       "      <td>1019</td>\n",
       "      <td>1</td>\n",
       "      <td>0</td>\n",
       "    </tr>\n",
       "    <tr>\n",
       "      <th>1000205</th>\n",
       "      <td>6039</td>\n",
       "      <td>1022</td>\n",
       "      <td>5</td>\n",
       "      <td>0</td>\n",
       "    </tr>\n",
       "    <tr>\n",
       "      <th>1000206</th>\n",
       "      <td>6039</td>\n",
       "      <td>548</td>\n",
       "      <td>5</td>\n",
       "      <td>0</td>\n",
       "    </tr>\n",
       "    <tr>\n",
       "      <th>1000207</th>\n",
       "      <td>6039</td>\n",
       "      <td>1024</td>\n",
       "      <td>4</td>\n",
       "      <td>0</td>\n",
       "    </tr>\n",
       "    <tr>\n",
       "      <th>1000208</th>\n",
       "      <td>6039</td>\n",
       "      <td>1025</td>\n",
       "      <td>4</td>\n",
       "      <td>0</td>\n",
       "    </tr>\n",
       "  </tbody>\n",
       "</table>\n",
       "</div>"
      ],
      "text/plain": [
       "         UserID  MovieID  Rating  Timestamp\n",
       "1000204    6039     1019       1          0\n",
       "1000205    6039     1022       5          0\n",
       "1000206    6039      548       5          0\n",
       "1000207    6039     1024       4          0\n",
       "1000208    6039     1025       4          0"
      ]
     },
     "execution_count": 86,
     "metadata": {},
     "output_type": "execute_result"
    }
   ],
   "source": [
    "ratings.tail()"
   ]
  },
  {
   "cell_type": "code",
   "execution_count": 74,
   "metadata": {
    "collapsed": false
   },
   "outputs": [],
   "source": [
    "ratings = (ratings.groupby('UserID')['Rating']\n",
    "                  .mean()\n",
    "                  .reset_index()\n",
    "                  .rename(columns={'index': 'UserID', 'Rating':'UserID_Average'})\n",
    "                  .merge(ratings, on='UserID'))\n",
    "ratings['Rating_normed'] = ratings['Rating'] / ratings['UserID_Average']\n",
    "ratings = (ratings.groupby('MovieID')['Rating_normed']\n",
    "                  .mean()\n",
    "                  .reset_index()\n",
    "                  .rename(columns={'index': 'MovieID', 'Rating_normed':'MovieID_Average'})\n",
    "                  .merge(ratings, on='MovieID'))\n",
    "ratings['Rating_normed'] = ratings['Rating_normed'] / ratings['MovieID_Average']"
   ]
  },
  {
   "cell_type": "code",
   "execution_count": 53,
   "metadata": {
    "collapsed": false
   },
   "outputs": [],
   "source": [
    "ratings['UserID_average'] = (ratings.groupby('UserID')['Rating']\n",
    "                                    .mean()\n",
    "                                    .reset_index()\n",
    "                                    .rename(columns={'index': 'UserID'})\n",
    "#ratings['Rating_U'] = ratings['Rating'] / ratings['UserID_average']\n",
    "#ratings['MovieID_average'] = ratings.groupby('MovieID')['Rating_U'].mean()\n",
    "#ratings['Rating_UM'] = ratings['Rating_U'] / ratings['MovieID_average']"
   ]
  },
  {
   "cell_type": "code",
   "execution_count": 60,
   "metadata": {
    "collapsed": false
   },
   "outputs": [
    {
     "name": "stdout",
     "output_type": "stream",
     "text": [
      "UserID       0\n",
      "MovieID      0\n",
      "Timestamp    0\n",
      "dtype: int64\n"
     ]
    }
   ],
   "source": [
    "x_indices = ratings[['UserID', 'MovieID', 'Timestamp']].copy()\n",
    "x_indices['UserID'] = x_indices['UserID'] - x_indices['UserID'].min() \n",
    "x_indices['MovieID'] = x_indices['MovieID'] - x_indices['MovieID'].min()\n",
    "x_indices['Timestamp'] = x_indices['Timestamp'] - x_indices['Timestamp'].min() \n",
    "\n",
    "print x_indices.min()\n",
    "x_indices = x_indices.values\n",
    "# mean_rating = ratings['Rating'].mean() \n",
    "x_vals = ratings['Rating_UM'].values"
   ]
  },
  {
   "cell_type": "code",
   "execution_count": 62,
   "metadata": {
    "collapsed": false
   },
   "outputs": [
    {
     "data": {
      "text/plain": [
       "0          1.025104\n",
       "1          0.928252\n",
       "2          0.941303\n",
       "3          0.948697\n",
       "4          0.812441\n",
       "5          0.998780\n",
       "6          1.021302\n",
       "7          1.108524\n",
       "8          1.173037\n",
       "9          1.012100\n",
       "10              NaN\n",
       "11              NaN\n",
       "12              NaN\n",
       "13              NaN\n",
       "14              NaN\n",
       "15              NaN\n",
       "16              NaN\n",
       "17              NaN\n",
       "18              NaN\n",
       "19              NaN\n",
       "20              NaN\n",
       "21              NaN\n",
       "22              NaN\n",
       "23              NaN\n",
       "24              NaN\n",
       "25              NaN\n",
       "26              NaN\n",
       "27              NaN\n",
       "28              NaN\n",
       "29              NaN\n",
       "             ...   \n",
       "1000179         NaN\n",
       "1000180         NaN\n",
       "1000181         NaN\n",
       "1000182         NaN\n",
       "1000183         NaN\n",
       "1000184         NaN\n",
       "1000185         NaN\n",
       "1000186         NaN\n",
       "1000187         NaN\n",
       "1000188         NaN\n",
       "1000189         NaN\n",
       "1000190         NaN\n",
       "1000191         NaN\n",
       "1000192         NaN\n",
       "1000193         NaN\n",
       "1000194         NaN\n",
       "1000195         NaN\n",
       "1000196         NaN\n",
       "1000197         NaN\n",
       "1000198         NaN\n",
       "1000199         NaN\n",
       "1000200         NaN\n",
       "1000201         NaN\n",
       "1000202         NaN\n",
       "1000203         NaN\n",
       "1000204         NaN\n",
       "1000205         NaN\n",
       "1000206         NaN\n",
       "1000207         NaN\n",
       "1000208         NaN\n",
       "Name: MovieID_average, dtype: float64"
      ]
     },
     "execution_count": 62,
     "metadata": {},
     "output_type": "execute_result"
    }
   ],
   "source": [
    "ratings['MovieID_average']"
   ]
  },
  {
   "cell_type": "code",
   "execution_count": 56,
   "metadata": {
    "collapsed": false
   },
   "outputs": [
    {
     "data": {
      "text/plain": [
       "3706"
      ]
     },
     "execution_count": 56,
     "metadata": {},
     "output_type": "execute_result"
    }
   ],
   "source": [
    "len(ratings['MovieID'].unique())"
   ]
  },
  {
   "cell_type": "code",
   "execution_count": 57,
   "metadata": {
    "collapsed": false
   },
   "outputs": [
    {
     "data": {
      "text/plain": [
       "3705"
      ]
     },
     "execution_count": 57,
     "metadata": {},
     "output_type": "execute_result"
    }
   ],
   "source": [
    "ratings['MovieID'].max()"
   ]
  },
  {
   "cell_type": "code",
   "execution_count": 58,
   "metadata": {
    "collapsed": false
   },
   "outputs": [
    {
     "data": {
      "text/plain": [
       "[6040, 3706, 35]"
      ]
     },
     "execution_count": 58,
     "metadata": {},
     "output_type": "execute_result"
    }
   ],
   "source": [
    "indices_train, indices_test, val_train, val_test = train_test_split(\n",
    "    x_indices, x_vals, test_size=0.33, random_state=30)\n",
    "#     x_indices, x_vals, test_size=0.33, random_state=42)\n",
    "\n",
    "\n",
    "shape_uid = len(np.unique(x_indices[:,0]))\n",
    "shape_mid = len(np.unique(x_indices[:,1]))\n",
    "shape_ts = len(np.unique(x_indices[:,2]))\n",
    "shape = [shape_uid, shape_mid, shape_ts]\n",
    "shape"
   ]
  },
  {
   "cell_type": "code",
   "execution_count": 59,
   "metadata": {
    "collapsed": false,
    "scrolled": true
   },
   "outputs": [
    {
     "ename": "AssertionError",
     "evalue": "",
     "output_type": "error",
     "traceback": [
      "\u001b[0;31m---------------------------------------------------------------------------\u001b[0m",
      "\u001b[0;31mAssertionError\u001b[0m                            Traceback (most recent call last)",
      "\u001b[0;32m<ipython-input-59-419f22f6b99e>\u001b[0m in \u001b[0;36m<module>\u001b[0;34m()\u001b[0m\n\u001b[1;32m      3\u001b[0m \u001b[0mbefore\u001b[0m \u001b[0;34m=\u001b[0m \u001b[0mbnf\u001b[0m\u001b[0;34m.\u001b[0m\u001b[0mscore\u001b[0m\u001b[0;34m(\u001b[0m\u001b[0mindices_train\u001b[0m\u001b[0;34m,\u001b[0m \u001b[0mval_train\u001b[0m\u001b[0;34m)\u001b[0m\u001b[0;34m\u001b[0m\u001b[0m\n\u001b[1;32m      4\u001b[0m \u001b[0minitial\u001b[0m \u001b[0;34m=\u001b[0m \u001b[0mbnf\u001b[0m\u001b[0;34m.\u001b[0m\u001b[0mimpute\u001b[0m\u001b[0;34m(\u001b[0m\u001b[0mx_indices\u001b[0m\u001b[0;34m)\u001b[0m\u001b[0;34m\u001b[0m\u001b[0m\n\u001b[0;32m----> 5\u001b[0;31m \u001b[0mreconstructed\u001b[0m \u001b[0;34m=\u001b[0m \u001b[0mbnf\u001b[0m\u001b[0;34m.\u001b[0m\u001b[0mfit\u001b[0m\u001b[0;34m(\u001b[0m\u001b[0mindices_train\u001b[0m\u001b[0;34m,\u001b[0m \u001b[0mval_train\u001b[0m\u001b[0;34m)\u001b[0m\u001b[0;34m\u001b[0m\u001b[0m\n\u001b[0m\u001b[1;32m      6\u001b[0m \u001b[0mafter\u001b[0m \u001b[0;34m=\u001b[0m \u001b[0mbnf\u001b[0m\u001b[0;34m.\u001b[0m\u001b[0mscore\u001b[0m\u001b[0;34m(\u001b[0m\u001b[0;34m)\u001b[0m\u001b[0;34m\u001b[0m\u001b[0m\n\u001b[1;32m      7\u001b[0m \u001b[0;32massert\u001b[0m\u001b[0;34m(\u001b[0m\u001b[0mafter\u001b[0m \u001b[0;34m<\u001b[0m \u001b[0mbefore\u001b[0m\u001b[0;34m)\u001b[0m\u001b[0;34m\u001b[0m\u001b[0m\n",
      "\u001b[0;32m/Users/elibressert/github/NTFLib/ntflib/betantf.py\u001b[0m in \u001b[0;36mfit\u001b[0;34m(self, x_indices, x_vals)\u001b[0m\n\u001b[1;32m     91\u001b[0m         \u001b[0mself\u001b[0m\u001b[0;34m.\u001b[0m\u001b[0mx_indices\u001b[0m \u001b[0;34m=\u001b[0m \u001b[0mx_indices\u001b[0m\u001b[0;34m\u001b[0m\u001b[0m\n\u001b[1;32m     92\u001b[0m         \u001b[0mself\u001b[0m\u001b[0;34m.\u001b[0m\u001b[0mx_vals\u001b[0m \u001b[0;34m=\u001b[0m \u001b[0mx_vals\u001b[0m\u001b[0;34m\u001b[0m\u001b[0m\n\u001b[0;32m---> 93\u001b[0;31m         \u001b[0mself\u001b[0m\u001b[0;34m.\u001b[0m\u001b[0m_check_input\u001b[0m\u001b[0;34m(\u001b[0m\u001b[0mx_indices\u001b[0m\u001b[0;34m,\u001b[0m \u001b[0mx_vals\u001b[0m\u001b[0;34m)\u001b[0m\u001b[0;34m\u001b[0m\u001b[0m\n\u001b[0m\u001b[1;32m     94\u001b[0m         \u001b[0;32mfor\u001b[0m \u001b[0mit\u001b[0m \u001b[0;32min\u001b[0m \u001b[0mrange\u001b[0m\u001b[0;34m(\u001b[0m\u001b[0mself\u001b[0m\u001b[0;34m.\u001b[0m\u001b[0mn_iters\u001b[0m\u001b[0;34m)\u001b[0m\u001b[0;34m:\u001b[0m\u001b[0;34m\u001b[0m\u001b[0m\n\u001b[1;32m     95\u001b[0m             \u001b[0;31m# Update each factor individually\u001b[0m\u001b[0;34m\u001b[0m\u001b[0;34m\u001b[0m\u001b[0m\n",
      "\u001b[0;32m/Users/elibressert/github/NTFLib/ntflib/betantf.py\u001b[0m in \u001b[0;36m_check_input\u001b[0;34m(self, x_indices, x_vals)\u001b[0m\n\u001b[1;32m     54\u001b[0m                 \u001b[0mwarnings\u001b[0m\u001b[0;34m.\u001b[0m\u001b[0mwarn\u001b[0m\u001b[0;34m(\u001b[0m\u001b[0mmsg\u001b[0m\u001b[0;34m)\u001b[0m\u001b[0;34m\u001b[0m\u001b[0m\n\u001b[1;32m     55\u001b[0m         \u001b[0;32massert\u001b[0m \u001b[0mlen\u001b[0m\u001b[0;34m(\u001b[0m\u001b[0mx_vals\u001b[0m\u001b[0;34m)\u001b[0m \u001b[0;34m==\u001b[0m \u001b[0mlen\u001b[0m\u001b[0;34m(\u001b[0m\u001b[0mx_indices\u001b[0m\u001b[0;34m)\u001b[0m\u001b[0;34m\u001b[0m\u001b[0m\n\u001b[0;32m---> 56\u001b[0;31m         \u001b[0;32massert\u001b[0m \u001b[0mnp\u001b[0m\u001b[0;34m.\u001b[0m\u001b[0mall\u001b[0m\u001b[0;34m(\u001b[0m\u001b[0mnp\u001b[0m\u001b[0;34m.\u001b[0m\u001b[0misfinite\u001b[0m\u001b[0;34m(\u001b[0m\u001b[0mx_vals\u001b[0m\u001b[0;34m)\u001b[0m\u001b[0;34m)\u001b[0m\u001b[0;34m\u001b[0m\u001b[0m\n\u001b[0m\u001b[1;32m     57\u001b[0m         \u001b[0;32massert\u001b[0m \u001b[0mnp\u001b[0m\u001b[0;34m.\u001b[0m\u001b[0mall\u001b[0m\u001b[0;34m(\u001b[0m\u001b[0mx_vals\u001b[0m \u001b[0;34m>=\u001b[0m \u001b[0;36m0\u001b[0m\u001b[0;34m)\u001b[0m\u001b[0;34m\u001b[0m\u001b[0m\n\u001b[1;32m     58\u001b[0m \u001b[0;34m\u001b[0m\u001b[0m\n",
      "\u001b[0;31mAssertionError\u001b[0m: "
     ]
    }
   ],
   "source": [
    "# shape = [len(np.unique(ratings[x])) for x in ['UserID', 'MovieID', 'Timestamp']]\n",
    "bnf = betantf.BetaNTF(shape, n_components=100, n_iters=20)\n",
    "before = bnf.score(indices_train, val_train)\n",
    "initial = bnf.impute(x_indices)\n",
    "reconstructed = bnf.fit(indices_train, val_train)\n",
    "after = bnf.score()\n",
    "assert(after < before)"
   ]
  },
  {
   "cell_type": "code",
   "execution_count": 46,
   "metadata": {
    "collapsed": false
   },
   "outputs": [],
   "source": [
    "prediction = bnf.impute(indices_test)"
   ]
  },
  {
   "cell_type": "code",
   "execution_count": 48,
   "metadata": {
    "collapsed": false
   },
   "outputs": [
    {
     "name": "stdout",
     "output_type": "stream",
     "text": [
      "1.08076916998\n",
      "0.831608790452\n",
      "3.58156445303\n",
      "1.39603797881\n"
     ]
    }
   ],
   "source": [
    "# rmse(prediction, val_test) / float(prediction.shape[0])\n",
    "print mean_squared_error(prediction * mean_rating, val_test * mean_rating) \n",
    "print mean_absolute_error(prediction * mean_rating, val_test * mean_rating)\n",
    "\n",
    "print ratings['Rating'].mean()\n",
    "print 5 / ratings['Rating'].mean()"
   ]
  },
  {
   "cell_type": "code",
   "execution_count": 11,
   "metadata": {
    "collapsed": false,
    "scrolled": false
   },
   "outputs": [
    {
     "name": "stdout",
     "output_type": "stream",
     "text": [
      "SUMMARY\r\n",
      "================================================================================\r\n",
      "\r\n",
      "These files contain 1,000,209 anonymous ratings of approximately 3,900 movies \r\n",
      "made by 6,040 MovieLens users who joined MovieLens in 2000.\r\n",
      "\r\n",
      "USAGE LICENSE\r\n",
      "================================================================================\r\n",
      "\r\n",
      "Neither the University of Minnesota nor any of the researchers\r\n",
      "involved can guarantee the correctness of the data, its suitability\r\n",
      "for any particular purpose, or the validity of results based on the\r\n",
      "use of the data set.  The data set may be used for any research\r\n",
      "purposes under the following conditions:\r\n",
      "\r\n",
      "     * The user may not state or imply any endorsement from the\r\n",
      "       University of Minnesota or the GroupLens Research Group.\r\n",
      "\r\n",
      "     * The user must acknowledge the use of the data set in\r\n",
      "       publications resulting from the use of the data set, and must\r\n",
      "       send us an electronic or paper copy of those publications.\r\n",
      "\r\n",
      "     * The user may not redistribute the data without separate\r\n",
      "       permission.\r\n",
      "\r\n",
      "     * The user may not use this information for any commercial or\r\n",
      "       revenue-bearing purposes without first obtaining permission\r\n",
      "       from a faculty member of the GroupLens Research Project at the\r\n",
      "       University of Minnesota.\r\n",
      "\r\n",
      "If you have any further questions or comments, please contact GroupLens\r\n",
      "<grouplens-info@cs.umn.edu>. \r\n",
      "\r\n",
      "ACKNOWLEDGEMENTS\r\n",
      "================================================================================\r\n",
      "\r\n",
      "Thanks to Shyong Lam and Jon Herlocker for cleaning up and generating the data\r\n",
      "set.\r\n",
      "\r\n",
      "FURTHER INFORMATION ABOUT THE GROUPLENS RESEARCH PROJECT\r\n",
      "================================================================================\r\n",
      "\r\n",
      "The GroupLens Research Project is a research group in the Department of \r\n",
      "Computer Science and Engineering at the University of Minnesota. Members of \r\n",
      "the GroupLens Research Project are involved in many research projects related \r\n",
      "to the fields of information filtering, collaborative filtering, and \r\n",
      "recommender systems. The project is lead by professors John Riedl and Joseph \r\n",
      "Konstan. The project began to explore automated collaborative filtering in \r\n",
      "1992, but is most well known for its world wide trial of an automated \r\n",
      "collaborative filtering system for Usenet news in 1996. Since then the project \r\n",
      "has expanded its scope to research overall information filtering solutions, \r\n",
      "integrating in content-based methods as well as improving current collaborative \r\n",
      "filtering technology.\r\n",
      "\r\n",
      "Further information on the GroupLens Research project, including research \r\n",
      "publications, can be found at the following web site:\r\n",
      "        \r\n",
      "        http://www.grouplens.org/\r\n",
      "\r\n",
      "GroupLens Research currently operates a movie recommender based on \r\n",
      "collaborative filtering:\r\n",
      "\r\n",
      "        http://www.movielens.org/\r\n",
      "\r\n",
      "RATINGS FILE DESCRIPTION\r\n",
      "================================================================================\r\n",
      "\r\n",
      "All ratings are contained in the file \"ratings.dat\" and are in the\r\n",
      "following format:\r\n",
      "\r\n",
      "UserID::MovieID::Rating::Timestamp\r\n",
      "\r\n",
      "- UserIDs range between 1 and 6040 \r\n",
      "- MovieIDs range between 1 and 3952\r\n",
      "- Ratings are made on a 5-star scale (whole-star ratings only)\r\n",
      "- Timestamp is represented in seconds since the epoch as returned by time(2)\r\n",
      "- Each user has at least 20 ratings\r\n",
      "\r\n",
      "USERS FILE DESCRIPTION\r\n",
      "================================================================================\r\n",
      "\r\n",
      "User information is in the file \"users.dat\" and is in the following\r\n",
      "format:\r\n",
      "\r\n",
      "UserID::Gender::Age::Occupation::Zip-code\r\n",
      "\r\n",
      "All demographic information is provided voluntarily by the users and is\r\n",
      "not checked for accuracy.  Only users who have provided some demographic\r\n",
      "information are included in this data set.\r\n",
      "\r\n",
      "- Gender is denoted by a \"M\" for male and \"F\" for female\r\n",
      "- Age is chosen from the following ranges:\r\n",
      "\r\n",
      "\t*  1:  \"Under 18\"\r\n",
      "\t* 18:  \"18-24\"\r\n",
      "\t* 25:  \"25-34\"\r\n",
      "\t* 35:  \"35-44\"\r\n",
      "\t* 45:  \"45-49\"\r\n",
      "\t* 50:  \"50-55\"\r\n",
      "\t* 56:  \"56+\"\r\n",
      "\r\n",
      "- Occupation is chosen from the following choices:\r\n",
      "\r\n",
      "\t*  0:  \"other\" or not specified\r\n",
      "\t*  1:  \"academic/educator\"\r\n",
      "\t*  2:  \"artist\"\r\n",
      "\t*  3:  \"clerical/admin\"\r\n",
      "\t*  4:  \"college/grad student\"\r\n",
      "\t*  5:  \"customer service\"\r\n",
      "\t*  6:  \"doctor/health care\"\r\n",
      "\t*  7:  \"executive/managerial\"\r\n",
      "\t*  8:  \"farmer\"\r\n",
      "\t*  9:  \"homemaker\"\r\n",
      "\t* 10:  \"K-12 student\"\r\n",
      "\t* 11:  \"lawyer\"\r\n",
      "\t* 12:  \"programmer\"\r\n",
      "\t* 13:  \"retired\"\r\n",
      "\t* 14:  \"sales/marketing\"\r\n",
      "\t* 15:  \"scientist\"\r\n",
      "\t* 16:  \"self-employed\"\r\n",
      "\t* 17:  \"technician/engineer\"\r\n",
      "\t* 18:  \"tradesman/craftsman\"\r\n",
      "\t* 19:  \"unemployed\"\r\n",
      "\t* 20:  \"writer\"\r\n",
      "\r\n",
      "MOVIES FILE DESCRIPTION\r\n",
      "================================================================================\r\n",
      "\r\n",
      "Movie information is in the file \"movies.dat\" and is in the following\r\n",
      "format:\r\n",
      "\r\n",
      "MovieID::Title::Genres\r\n",
      "\r\n",
      "- Titles are identical to titles provided by the IMDB (including\r\n",
      "year of release)\r\n",
      "- Genres are pipe-separated and are selected from the following genres:\r\n",
      "\r\n",
      "\t* Action\r\n",
      "\t* Adventure\r\n",
      "\t* Animation\r\n",
      "\t* Children's\r\n",
      "\t* Comedy\r\n",
      "\t* Crime\r\n",
      "\t* Documentary\r\n",
      "\t* Drama\r\n",
      "\t* Fantasy\r\n",
      "\t* Film-Noir\r\n",
      "\t* Horror\r\n",
      "\t* Musical\r\n",
      "\t* Mystery\r\n",
      "\t* Romance\r\n",
      "\t* Sci-Fi\r\n",
      "\t* Thriller\r\n",
      "\t* War\r\n",
      "\t* Western\r\n",
      "\r\n",
      "- Some MovieIDs do not correspond to a movie due to accidental duplicate\r\n",
      "entries and/or test entries\r\n",
      "- Movies are mostly entered by hand, so errors and inconsistencies may exist\r\n"
     ]
    }
   ],
   "source": [
    "!cat ml-1m/README"
   ]
  },
  {
   "cell_type": "code",
   "execution_count": null,
   "metadata": {
    "collapsed": true
   },
   "outputs": [],
   "source": []
  },
  {
   "cell_type": "code",
   "execution_count": null,
   "metadata": {
    "collapsed": true
   },
   "outputs": [],
   "source": []
  }
 ],
 "metadata": {
  "kernelspec": {
   "display_name": "Python 2",
   "language": "python",
   "name": "python2"
  },
  "language_info": {
   "codemirror_mode": {
    "name": "ipython",
    "version": 2
   },
   "file_extension": ".py",
   "mimetype": "text/x-python",
   "name": "python",
   "nbconvert_exporter": "python",
   "pygments_lexer": "ipython2",
   "version": "2.7.9"
  }
 },
 "nbformat": 4,
 "nbformat_minor": 0
}
